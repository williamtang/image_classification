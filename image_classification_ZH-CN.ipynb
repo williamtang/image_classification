{
 "cells": [
  {
   "cell_type": "markdown",
   "metadata": {
    "collapsed": true
   },
   "source": [
    "# Image Classification\n",
    "In this project, you'll classify images from the [CIFAR-10 dataset](https://www.cs.toronto.edu/~kriz/cifar.html).  The dataset consists of airplanes, dogs, cats, and other objects. You'll preprocess the images, then train a convolutional neural network on all the samples. The images need to be normalized and the labels need to be one-hot encoded.  You'll get to apply what you learned and build a convolutional, max pooling, dropout, and fully connected layers.  At the end, you'll get to see your neural network's predictions on the sample images.\n",
    "## Get the Data\n",
    "Run the following cell to download the [CIFAR-10 dataset for python](https://www.cs.toronto.edu/~kriz/cifar-10-python.tar.gz)."
   ]
  },
  {
   "cell_type": "markdown",
   "metadata": {},
   "source": [
    "\n",
    "# 图像分类\n",
    "\n",
    "在该项目中，你将会对来自 [CIFAR-10 数据集](https://www.cs.toronto.edu/~kriz/cifar.html) 中的图像进行分类。数据集中图片的内容包括飞机（airplane）、狗（dogs）、猫（cats）及其他物体。你需要处理这些图像，接着对所有的样本训练一个卷积神经网络。\n",
    "\n",
    "具体而言，在项目中你要对图像进行正规化处理（normalization)，同时还要对图像的标签进行 one-hot 编码。接着你将会应用到你所学的技能来搭建一个具有卷积层、最大池化（Max Pooling）层、Dropout  层及全连接（fully connected）层的神经网络。最后，你会训练你的神经网络，会得到你神经网络在样本图像上的预测结果。\n",
    "\n",
    "## 下载数据\n",
    "\n",
    "运行如下代码下载 [CIFAR-10 dataset for python](https://www.cs.toronto.edu/~kriz/cifar-10-python.tar.gz)。"
   ]
  },
  {
   "cell_type": "code",
   "execution_count": 1,
   "metadata": {
    "collapsed": false
   },
   "outputs": [
    {
     "name": "stdout",
     "output_type": "stream",
     "text": [
      "All files found!\n"
     ]
    }
   ],
   "source": [
    "\"\"\"\n",
    "DON'T MODIFY ANYTHING IN THIS CELL THAT IS BELOW THIS LINE\n",
    "\"\"\"\n",
    "#from urllib.request import urlretrieve\n",
    "#import urllib #python27\n",
    "from urllib.request import urlretrieve #py36\n",
    "from os.path import isfile, isdir\n",
    "from tqdm import tqdm\n",
    "import problem_unittests as tests\n",
    "import tarfile\n",
    "\n",
    "cifar10_dataset_folder_path = 'cifar-10-batches-py'\n",
    "\n",
    "class DLProgress(tqdm):\n",
    "    last_block = 0\n",
    "\n",
    "    def hook(self, block_num=1, block_size=1, total_size=None):\n",
    "        self.total = total_size\n",
    "        self.update((block_num - self.last_block) * block_size)\n",
    "        self.last_block = block_num\n",
    "\n",
    "if not isfile('cifar-10-python.tar.gz'):\n",
    "    with DLProgress(unit='B', unit_scale=True, miniters=1, desc='CIFAR-10 Dataset') as pbar:\n",
    "        #urllib.urlretrieve(\n",
    "        #    'https://www.cs.toronto.edu/~kriz/cifar-10-python.tar.gz',\n",
    "        #    'cifar-10-python.tar.gz',\n",
    "        #    pbar.hook)\n",
    "        urlretrieve(\n",
    "            'https://www.cs.toronto.edu/~kriz/cifar-10-python.tar.gz',\n",
    "            'cifar-10-python.tar.gz',\n",
    "            pbar.hook)\n",
    "\n",
    "if not isdir(cifar10_dataset_folder_path):\n",
    "    with tarfile.open('cifar-10-python.tar.gz') as tar:\n",
    "        tar.extractall()\n",
    "        tar.close()\n",
    "\n",
    "\n",
    "tests.test_folder_path(cifar10_dataset_folder_path)"
   ]
  },
  {
   "cell_type": "markdown",
   "metadata": {},
   "source": [
    "## Explore the Data\n",
    "The dataset is broken into batches to prevent your machine from running out of memory.  The CIFAR-10 dataset consists of 5 batches, named `data_batch_1`, `data_batch_2`, etc.. Each batch contains the labels and images that are one of the following:\n",
    "* airplane\n",
    "* automobile\n",
    "* bird\n",
    "* cat\n",
    "* deer\n",
    "* dog\n",
    "* frog\n",
    "* horse\n",
    "* ship\n",
    "* truck\n",
    "\n",
    "Understanding a dataset is part of making predictions on the data.  Play around with the code cell below by changing the `batch_id` and `sample_id`. The `batch_id` is the id for a batch (1-5). The `sample_id` is the id for a image and label pair in the batch.\n",
    "\n",
    "Ask yourself \"What are all possible labels?\", \"What is the range of values for the image data?\", \"Are the labels in order or random?\".  Answers to questions like these will help you preprocess the data and end up with better predictions."
   ]
  },
  {
   "cell_type": "markdown",
   "metadata": {},
   "source": [
    "## 探索数据集\n",
    "\n",
    "\n",
    "为防止在运行过程中内存不足的问题，该数据集已经事先被分成了5批（batch），名为`data_batch_1`、`data_batch_2`等。每一批中都含有 *图像* 及对应的 *标签*，都是如下类别中的一种：\n",
    "\n",
    "* 飞机\n",
    "* 汽车\n",
    "* 鸟\n",
    "* 鹿\n",
    "* 狗\n",
    "* 青蛙\n",
    "* 马\n",
    "* 船\n",
    "* 卡车\n",
    "\n",
    "理解数据集也是对数据进行预测的一部分。修改如下代码中的 `batch_id` 和 `sample_id`，看看输出的图像是什么样子。其中，`batch_id` 代表着批次数（1-5），`sample_id` 代表着在该批内图像及标签的编号。\n",
    "\n",
    "你可以尝试回答如下问题：\n",
    "* 可能出现的 *标签* 都包括哪些？\n",
    "* 图像数据的取值范围是多少？\n",
    "* *标签* 的排列顺序是随机的还是有序的？\n",
    "\n",
    "对这些问题的回答，会有助于更好地处理数据，并能更好地进行预测。"
   ]
  },
  {
   "cell_type": "code",
   "execution_count": 2,
   "metadata": {
    "collapsed": false
   },
   "outputs": [
    {
     "name": "stdout",
     "output_type": "stream",
     "text": [
      "\n",
      "Stats of batch 2:\n",
      "Samples: 10000\n",
      "Label Counts: {0: 984, 1: 1007, 2: 1010, 3: 995, 4: 1010, 5: 988, 6: 1008, 7: 1026, 8: 987, 9: 985}\n",
      "First 20 Labels: [1, 6, 6, 8, 8, 3, 4, 6, 0, 6, 0, 3, 6, 6, 5, 4, 8, 3, 2, 6]\n",
      "\n",
      "Example of Image 20:\n",
      "Image - Min Value: 24 Max Value: 206\n",
      "Image - Shape: (32, 32, 3)\n",
      "Label - Label Id: 0 Name: airplane\n"
     ]
    },
    {
     "data": {
      "image/png": "[encoded data removed]",
      "text/plain": [
       "<matplotlib.figure.Figure at 0x11762ab00>"
      ]
     },
     "metadata": {
      "image/png": {
       "height": 250,
       "width": 253
      }
     },
     "output_type": "display_data"
    }
   ],
   "source": [
    "%matplotlib inline\n",
    "%config InlineBackend.figure_format = 'retina'\n",
    "\n",
    "import helper\n",
    "import numpy as np\n",
    "\n",
    "# Explore the dataset\n",
    "batch_id = 2\n",
    "sample_id = 20\n",
    "helper.display_stats(cifar10_dataset_folder_path, batch_id, sample_id)"
   ]
  },
  {
   "cell_type": "markdown",
   "metadata": {},
   "source": [
    "## Implement Preprocess Functions\n",
    "### Normalize\n",
    "In the cell below, implement the `normalize` function to take in image data, `x`, and return it as a normalized Numpy array. The values should be in the range of 0 to 1, inclusive.  The return object should be the same shape as `x`."
   ]
  },
  {
   "cell_type": "markdown",
   "metadata": {},
   "source": [
    "## 图像预处理功能的实现\n",
    "### 正规化\n",
    "\n",
    "在如下的代码中，修改 `normalize` 函数，使之能够对输入的图像数据 `x` 进行处理，输出一个经过正规化的、Numpy array 格式的图像数据。\n",
    "\n",
    "**注意：**\n",
    "处理后的值应当在 $[0,1]$ 的范围之内。返回值应当和输入值具有相同的形状。"
   ]
  },
  {
   "cell_type": "code",
   "execution_count": 3,
   "metadata": {
    "collapsed": false
   },
   "outputs": [
    {
     "name": "stdout",
     "output_type": "stream",
     "text": [
      "Tests Passed\n"
     ]
    }
   ],
   "source": [
    "def normalize(x):\n",
    "    \"\"\"\n",
    "    Normalize a list of sample image data in the range of 0 to 1\n",
    "    : x: List of image data.  The image shape is (32, 32, 3)\n",
    "    : return: Numpy array of normalize data\n",
    "    \"\"\"\n",
    "    # TODO: Implement Function\n",
    "    #for idx in range(0, x.shape[0]):\n",
    "    #    min_val = x[idx, :, :].min()\n",
    "    #    max_val = x[idx,:,:].max()\n",
    "    #    x[idx, :, :] = (x[idx, :, :] - min_val)/(max_val - min_val)\n",
    "    #return x\n",
    "\n",
    "    return (x-np.min(x))/(np.max(x)-np.min(x))\n",
    "\n",
    "\n",
    "\"\"\"\n",
    "DON'T MODIFY ANYTHING IN THIS CELL THAT IS BELOW THIS LINE\n",
    "\"\"\"\n",
    "tests.test_normalize(normalize)"
   ]
  },
  {
   "cell_type": "markdown",
   "metadata": {},
   "source": [
    "### One-hot encode\n",
    "Just like the previous code cell, you'll be implementing a function for preprocessing.  This time, you'll implement the `one_hot_encode` function. The input, `x`, are a list of labels.  Implement the function to return the list of labels as One-Hot encoded Numpy array.  The possible values for labels are 0 to 9. The one-hot encoding function should return the same encoding for each value between each call to `one_hot_encode`.  Make sure to save the map of encodings outside the function.\n",
    "\n",
    "**Hint:**\n",
    "\n",
    "Look into LabelBinarizer in the preprocessing module of sklearn."
   ]
  },
  {
   "cell_type": "markdown",
   "metadata": {},
   "source": [
    "### One-hot 编码\n",
    "\n",
    "在如下代码中，你将继续实现预处理的功能，实现一个 `one_hot_encode` 函数。函数的输入 `x` 是 *标签* 构成的列表，返回值是经过 One_hot 处理过后的这列 *标签* 对应的 One_hot 编码，以 Numpy array 储存。其中，*标签* 的取值范围从0到9。每次调用该函数时，对相同的标签值，它输出的编码也是相同的。请确保在函数外保存编码的映射（map of encodings）。\n",
    "\n",
    "**提示：**\n",
    "\n",
    "你可以尝试使用 sklearn preprocessing 模块中的 `LabelBinarizer` 函数。"
   ]
  },
  {
   "cell_type": "code",
   "execution_count": 4,
   "metadata": {
    "collapsed": false
   },
   "outputs": [
    {
     "name": "stdout",
     "output_type": "stream",
     "text": [
      "Tests Passed\n"
     ]
    }
   ],
   "source": [
    "from sklearn import preprocessing\n",
    "def one_hot_encode(x):\n",
    "    \"\"\"\n",
    "    One hot encode a list of sample labels. Return a one-hot encoded vector for each label.\n",
    "    : x: List of sample Labels\n",
    "    : return: Numpy array of one-hot encoded labels\n",
    "    \"\"\"\n",
    "    # TODO: Implement Function\n",
    "    lb = preprocessing.LabelBinarizer()\n",
    "    lb.fit(np.arange(10))\n",
    "    onehot_labels = lb.transform(x)\n",
    "    return onehot_labels\n",
    "\n",
    "\n",
    "\"\"\"\n",
    "DON'T MODIFY ANYTHING IN THIS CELL THAT IS BELOW THIS LINE\n",
    "\"\"\"\n",
    "tests.test_one_hot_encode(one_hot_encode)"
   ]
  },
  {
   "cell_type": "markdown",
   "metadata": {},
   "source": [
    "### Randomize Data\n",
    "As you saw from exploring the data above, the order of the samples are randomized.  It doesn't hurt to randomize it again, but you don't need to for this dataset."
   ]
  },
  {
   "cell_type": "markdown",
   "metadata": {},
   "source": [
    "### 随机打乱数据\n",
    "\n",
    "正如你在上方探索数据部分所看到的，样本的顺序已经被随机打乱了。尽管再随机处理一次也没问题，不过对于该数据我们没必要再进行一次相关操作了。"
   ]
  },
  {
   "cell_type": "markdown",
   "metadata": {},
   "source": [
    "## Preprocess all the data and save it\n",
    "Running the code cell below will preprocess all the CIFAR-10 data and save it to file. The code below also uses 10% of the training data for validation."
   ]
  },
  {
   "cell_type": "markdown",
   "metadata": {},
   "source": [
    "## 对所有图像数据进行预处理并保存结果\n",
    "\n",
    "运行如下代码，它将会预处理所有的 CIFAR-10 数据并将它另存为文件。此外，如下的代码还将会把 10% 的训练数据留出作为验证数据。"
   ]
  },
  {
   "cell_type": "code",
   "execution_count": 5,
   "metadata": {
    "collapsed": true
   },
   "outputs": [],
   "source": [
    "\"\"\"\n",
    "DON'T MODIFY ANYTHING IN THIS CELL\n",
    "\"\"\"\n",
    "# Preprocess Training, Validation, and Testing Data\n",
    "helper.preprocess_and_save_data(cifar10_dataset_folder_path, normalize, one_hot_encode)"
   ]
  },
  {
   "cell_type": "markdown",
   "metadata": {},
   "source": [
    "# Check Point\n",
    "This is your first checkpoint.  If you ever decide to come back to this notebook or have to restart the notebook, you can start from here.  The preprocessed data has been saved to disk."
   ]
  },
  {
   "cell_type": "markdown",
   "metadata": {},
   "source": [
    "# 检查点\n",
    "\n",
    "这是你的首个检查点。因为预处理完的数据已经被保存到硬盘上了，所以如果你需要回顾或重启该 notebook，你可以在这里重新开始。"
   ]
  },
  {
   "cell_type": "code",
   "execution_count": 7,
   "metadata": {
    "collapsed": true
   },
   "outputs": [],
   "source": [
    "\"\"\"\n",
    "DON'T MODIFY ANYTHING IN THIS CELL\n",
    "\"\"\"\n",
    "import pickle\n",
    "import problem_unittests as tests\n",
    "import helper\n",
    "\n",
    "# Load the Preprocessed Validation data\n",
    "valid_features, valid_labels = pickle.load(open('preprocess_validation.p', mode='rb'))"
   ]
  },
  {
   "cell_type": "markdown",
   "metadata": {},
   "source": [
    "## Build the network\n",
    "For the neural network, you'll build each layer into a function.  Most of the code you've seen has been outside of functions. To test your code more thoroughly, we require that you put each layer in a function.  This allows us to give you better feedback and test for simple mistakes using our unittests before you submit your project.\n",
    "\n",
    ">**Note:** If you're finding it hard to dedicate enough time for this course each week, we've provided a small shortcut to this part of the project. In the next couple of problems, you'll have the option to use classes from the [TensorFlow Layers](https://www.tensorflow.org/api_docs/python/tf/layers) or [TensorFlow Layers (contrib)](https://www.tensorflow.org/api_guides/python/contrib.layers) packages to build each layer, except the layers you build in the \"Convolutional and Max Pooling Layer\" section.  TF Layers is similar to Keras's and TFLearn's abstraction to layers, so it's easy to pickup.\n",
    "\n",
    ">However, if you would like to get the most out of this course, try to solve all the problems _without_ using anything from the TF Layers packages. You **can** still use classes from other packages that happen to have the same name as ones you find in TF Layers! For example, instead of using the TF Layers version of the `conv2d` class, [tf.layers.conv2d](https://www.tensorflow.org/api_docs/python/tf/layers/conv2d), you would want to use the TF Neural Network version of `conv2d`, [tf.nn.conv2d](https://www.tensorflow.org/api_docs/python/tf/nn/conv2d). \n",
    "\n",
    "Let's begin!\n",
    "\n",
    "### Input\n",
    "The neural network needs to read the image data, one-hot encoded labels, and dropout keep probability. Implement the following functions\n",
    "* Implement `neural_net_image_input`\n",
    " * Return a [TF Placeholder](https://www.tensorflow.org/api_docs/python/tf/placeholder)\n",
    " * Set the shape using `image_shape` with batch size set to `None`.\n",
    " * Name the TensorFlow placeholder \"x\" using the TensorFlow `name` parameter in the [TF Placeholder](https://www.tensorflow.org/api_docs/python/tf/placeholder).\n",
    "* Implement `neural_net_label_input`\n",
    " * Return a [TF Placeholder](https://www.tensorflow.org/api_docs/python/tf/placeholder)\n",
    " * Set the shape using `n_classes` with batch size set to `None`.\n",
    " * Name the TensorFlow placeholder \"y\" using the TensorFlow `name` parameter in the [TF Placeholder](https://www.tensorflow.org/api_docs/python/tf/placeholder).\n",
    "* Implement `neural_net_keep_prob_input`\n",
    " * Return a [TF Placeholder](https://www.tensorflow.org/api_docs/python/tf/placeholder) for dropout keep probability.\n",
    " * Name the TensorFlow placeholder \"keep_prob\" using the TensorFlow `name` parameter in the [TF Placeholder](https://www.tensorflow.org/api_docs/python/tf/placeholder).\n",
    "\n",
    "These names will be used at the end of the project to load your saved model.\n",
    "\n",
    "Note: `None` for shapes in TensorFlow allow for a dynamic size."
   ]
  },
  {
   "cell_type": "markdown",
   "metadata": {},
   "source": [
    "## 搭建神经网络\n",
    "\n",
    "为搭建神经网络，你需要将搭建每一层的过程封装到一个函数中。大部分的代码你在函数外已经见过。为能够更透彻地测试你的代码，我们要求你把每一层都封装到一个函数中。这能够帮助我们给予你更好的回复，同时还能让我们使用 unittests 在你提交报告前检测出你项目中的小问题。\n",
    "\n",
    ">**注意：** 如果你时间紧迫，那么在该部分我们为你提供了一个便捷方法。在接下来的一些问题中，你可以使用来自 [TensorFlow Layers](https://www.tensorflow.org/api_docs/python/tf/layers) 或 [TensorFlow Layers (contrib)](https://www.tensorflow.org/api_guides/python/contrib.layers) 包中的函数来搭建各层，不过不可以用他们搭建卷积-最大池化层。TF Layers 和 Keras 及 TFLean 中对层的抽象比较相似，所以你应该很容易上手。\n",
    "\n",
    ">\n",
    "\n",
    "\n",
    "However, if you would like to get the most out of this course, try to solve all the problems _without_ using anything from the TF Layers packages. You **can** still use classes from other packages that happen to have the same name as ones you find in TF Layers! For example, instead of using the TF Layers version of the `conv2d` class, [tf.layers.conv2d](https://www.tensorflow.org/api_docs/python/tf/layers/conv2d), you would want to use the TF Neural Network version of `conv2d`, [tf.nn.conv2d](https://www.tensorflow.org/api_docs/python/tf/nn/conv2d). \n",
    "\n",
    "不过，如果你希望能够更多地实践，我们希望你能够在**不**使用 TF Layers 的情况下解决所有问题。你依然**能**使用来自其他包但和 layers 中重名的函数。例如，你可以使用 TF Neural Network 版本的 `conv_2d\n",
    "\n",
    "让我们开始吧！\n",
    "\n",
    "### 输入\n",
    "\n",
    "神经网络需要能够读取图像数据、经 one-hot 编码之后的标签及 dropout 中的保留概率。修改如下函数：\n",
    "\n",
    "* 修改 `neural_net_image_input` 函数：\n",
    " * 返回 [TF Placeholder](https://www.tensorflow.org/api_docs/python/tf/placeholder)。\n",
    " * 使用 `image_shape` 设定形状，设定批大小（batch size)为 `None`。\n",
    " * 使用 [TF Placeholder](https://www.tensorflow.org/api_docs/python/tf/placeholder) 中的 `Name` 参数，命名该 TensorFlow placeholder 为 \"x\"。\n",
    "* 修改 `neural_net_label_input` 函数： \n",
    " * 返回 [TF Placeholder](https://www.tensorflow.org/api_docs/python/tf/placeholder)。\n",
    " * 使用 `n_classes` 设定形状，设定批大小（batch size)为 `None`。\n",
    " * 使用 [TF Placeholder](https://www.tensorflow.org/api_docs/python/tf/placeholder) 中的 `Name` 参数，命名该 TensorFlow placeholder 为 \"y\"。\n",
    "* 修改 `neural_net_keep_prob_input` 函数：\n",
    " * 返回 [TF Placeholder](https://www.tensorflow.org/api_docs/python/tf/placeholder) 作为 dropout 的保留概率（keep probability）。\n",
    " * 使用 [TF Placeholder](https://www.tensorflow.org/api_docs/python/tf/placeholder) 中的 `Name` 参数，命名该 TensorFlow placeholder 为 \"keep_prob\"。\n",
    " \n",
    "我们会在项目最后使用这些名字，来载入你储存的模型。\n",
    "\n",
    "**注意：**在 TensorFlow 中，对形状设定为 `None`，能帮助设定一个动态的大小。"
   ]
  },
  {
   "cell_type": "code",
   "execution_count": 8,
   "metadata": {
    "collapsed": false
   },
   "outputs": [
    {
     "name": "stdout",
     "output_type": "stream",
     "text": [
      "Image Input Tests Passed.\n",
      "Label Input Tests Passed.\n",
      "Keep Prob Tests Passed.\n"
     ]
    }
   ],
   "source": [
    "import tensorflow as tf\n",
    "\n",
    "def neural_net_image_input(image_shape):\n",
    "    \"\"\"\n",
    "    Return a Tensor for a batch of image input\n",
    "    : image_shape: Shape of the images\n",
    "    : return: Tensor for image input.\n",
    "    \"\"\"\n",
    "    # TODO: Implement Function\n",
    "    x = tf.placeholder(tf.float32, [None, image_shape[0], image_shape[1], image_shape[2]], name=\"x\")\n",
    "    return x\n",
    "\n",
    "\n",
    "def neural_net_label_input(n_classes):\n",
    "    \"\"\"\n",
    "    Return a Tensor for a batch of label input\n",
    "    : n_classes: Number of classes\n",
    "    : return: Tensor for label input.\n",
    "    \"\"\"\n",
    "    # TODO: Implement Function\n",
    "    y = tf.placeholder(tf.int32, [None, n_classes], name=\"y\")\n",
    "    return y\n",
    "\n",
    "\n",
    "def neural_net_keep_prob_input():\n",
    "    \"\"\"\n",
    "    Return a Tensor for keep probability\n",
    "    : return: Tensor for keep probability.\n",
    "    \"\"\"\n",
    "    # TODO: Implement Function\n",
    "    keep_prob = tf.placeholder(tf.float32, name=\"keep_prob\")\n",
    "    return keep_prob\n",
    "\n",
    "\n",
    "\"\"\"\n",
    "DON'T MODIFY ANYTHING IN THIS CELL THAT IS BELOW THIS LINE\n",
    "\"\"\"\n",
    "tf.reset_default_graph()\n",
    "tests.test_nn_image_inputs(neural_net_image_input)\n",
    "tests.test_nn_label_inputs(neural_net_label_input)\n",
    "tests.test_nn_keep_prob_inputs(neural_net_keep_prob_input)"
   ]
  },
  {
   "cell_type": "markdown",
   "metadata": {},
   "source": [
    "### Convolution and Max Pooling Layer\n",
    "Convolution layers have a lot of success with images. For this code cell, you should implement the function `conv2d_maxpool` to apply convolution then max pooling:\n",
    "* Create the weight and bias using `conv_ksize`, `conv_num_outputs` and the shape of `x_tensor`.\n",
    "* Apply a convolution to `x_tensor` using weight and `conv_strides`.\n",
    " * We recommend you use same padding, but you're welcome to use any padding.\n",
    "* Add bias\n",
    "* Add a nonlinear activation to the convolution.\n",
    "* Apply Max Pooling using `pool_ksize` and `pool_strides`.\n",
    " * We recommend you use same padding, but you're welcome to use any padding.\n",
    "\n",
    "**Note:** You **can't** use [TensorFlow Layers](https://www.tensorflow.org/api_docs/python/tf/layers) or [TensorFlow Layers (contrib)](https://www.tensorflow.org/api_guides/python/contrib.layers) for **this** layer, but you can still use TensorFlow's [Neural Network](https://www.tensorflow.org/api_docs/python/tf/nn) package. You may still use the shortcut option for all the **other** layers.\n",
    "\n",
    "** Hint: **\n",
    "\n",
    "When unpacking values as an argument in Python, look into the [unpacking](https://docs.python.org/3/tutorial/controlflow.html#unpacking-argument-lists) operator. "
   ]
  },
  {
   "cell_type": "markdown",
   "metadata": {},
   "source": [
    "### 卷积-最大池（Convolution and Max Pooling）化层\n",
    "\n",
    "卷积层在图像处理中取得了不小的成功。在这部分的代码中，你需要修改 `conv2d_maxpool` 函数来先后实现卷积及最大池化的功能。\n",
    "\n",
    "* 使用 `conv_ksize`、`conv_num_outputs` 及 `x_tensor` 来创建权重（weight）及偏差（bias）变量。\n",
    "* 对 `x_tensor` 进行卷积，使用 `conv_strides` 及*权重*。\n",
    " * 我们建议使用 SAME padding，不过你也可尝试其他 padding 模式。 \n",
    "* 加上*偏差*。\n",
    "* 对卷积结果加上一个非线性函数作为激活层。\n",
    "* 基于 `pool_kszie` 及 `pool_strides` 进行最大池化。\n",
    " * 我们建议使用 SAME padding，不过你也可尝试其他 padding 模式。\n",
    " \n",
    "**注意：**\n",
    "你**不**可以使用来自 [TensorFlow Layers](https://www.tensorflow.org/api_docs/python/tf/layers) 或 [TensorFlow Layers (contrib)](https://www.tensorflow.org/api_guides/python/contrib.layers) 包中的函数来实现**这一层**的功能。但是你可以使用 TensorFlow 的[Neural Network](https://www.tensorflow.org/api_docs/python/tf/nn)包。\n",
    "\n",
    "对于如上的快捷方法，你在**其他层**中可以尝试使用。\n",
    "\n",
    "\n",
    "**提示：**\n",
    "当你在 Python 中希望展开（unpacking）某个变量的值作为函数的参数，你可以参考 [unpacking](https://docs.python.org/3/tutorial/controlflow.html#unpacking-argument-lists) 运算符。"
   ]
  },
  {
   "cell_type": "code",
   "execution_count": 9,
   "metadata": {
    "collapsed": false
   },
   "outputs": [
    {
     "name": "stdout",
     "output_type": "stream",
     "text": [
      "Tests Passed\n"
     ]
    }
   ],
   "source": [
    "def conv2d_maxpool(x_tensor, conv_num_outputs, conv_ksize, conv_strides, pool_ksize, pool_strides):\n",
    "    \"\"\"\n",
    "    Apply convolution then max pooling to x_tensor\n",
    "    :param x_tensor: TensorFlow Tensor\n",
    "    :param conv_num_outputs: Number of outputs for the convolutional layer\n",
    "    :param conv_ksize: kernal size 2-D Tuple for the convolutional layer\n",
    "    :param conv_strides: Stride 2-D Tuple for convolution\n",
    "    :param pool_ksize: kernal size 2-D Tuple for pool\n",
    "    :param pool_strides: Stride 2-D Tuple for pool\n",
    "    : return: A tensor that represents convolution and max pooling of x_tensor\n",
    "    \"\"\"\n",
    "    # TODO: Implement Function\n",
    "    initial_w = tf.truncated_normal([conv_ksize[0],conv_ksize[1],x_tensor.shape.as_list()[-1],conv_num_outputs], stddev=0.1)\n",
    "    #initial_b = tf.constant(0.1, shape=[conv_num_outputs])\n",
    "    initial_b = tf.zeros(conv_num_outputs)\n",
    "    \n",
    "    W = tf.Variable(initial_w)\n",
    "    b = tf.Variable(initial_b)\n",
    "    \n",
    "    conv_data = tf.nn.conv2d(x_tensor, W, strides=[1, conv_strides[0], conv_strides[1], 1], padding='SAME')\n",
    "    relu_data = tf.nn.relu(conv_data + b)\n",
    "    pool_data = tf.nn.max_pool(relu_data, ksize=[1, pool_ksize[0], pool_ksize[1], 1], \n",
    "                   strides=[1, pool_strides[0], pool_strides[1], 1], padding='SAME')\n",
    "    \n",
    "    return pool_data\n",
    "\n",
    "\n",
    "\"\"\"\n",
    "DON'T MODIFY ANYTHING IN THIS CELL THAT IS BELOW THIS LINE\n",
    "\"\"\"\n",
    "tests.test_con_pool(conv2d_maxpool)"
   ]
  },
  {
   "cell_type": "markdown",
   "metadata": {},
   "source": [
    "### Flatten Layer\n",
    "Implement the `flatten` function to change the dimension of `x_tensor` from a 4-D tensor to a 2-D tensor.  The output should be the shape (*Batch Size*, *Flattened Image Size*). Shortcut option: you can use classes from the [TensorFlow Layers](https://www.tensorflow.org/api_docs/python/tf/layers) or [TensorFlow Layers (contrib)](https://www.tensorflow.org/api_guides/python/contrib.layers) packages for this layer. For more of a challenge, only use other TensorFlow packages."
   ]
  },
  {
   "cell_type": "markdown",
   "metadata": {},
   "source": [
    "### 展开层\n",
    "\n",
    "修改 `flatten` 函数，来将4维的输入张量 `x_tensor` 转换为一个二维的张量。输出的形状应当是 `(Batch Size, Flattened Image Size)`。\n",
    "快捷方法：你可以使用来自 [TensorFlow Layers](https://www.tensorflow.org/api_docs/python/tf/layers) 或 [TensorFlow Layers (contrib)](https://www.tensorflow.org/api_guides/python/contrib.layers) 包中的函数来实现该功能。不过你也可以只使用 TensorFlow 包中的函数来挑战自己。"
   ]
  },
  {
   "cell_type": "code",
   "execution_count": 10,
   "metadata": {
    "collapsed": false
   },
   "outputs": [
    {
     "name": "stdout",
     "output_type": "stream",
     "text": [
      "Tests Passed\n"
     ]
    }
   ],
   "source": [
    "from functools import reduce\n",
    "def flatten(x_tensor):\n",
    "    \"\"\"\n",
    "    Flatten x_tensor to (Batch Size, Flattened Image Size)\n",
    "    : x_tensor: A tensor of size (Batch Size, ...), where ... are the image dimensions.\n",
    "    : return: A tensor of size (Batch Size, Flattened Image Size).\n",
    "    \"\"\"\n",
    "    # TODO: Implement Function\n",
    "    dims = x_tensor.shape.as_list()\n",
    "    flat_data = tf.reshape(x_tensor, [-1, reduce(lambda x,y:x*y, dims[1:])])\n",
    "    return flat_data\n",
    "\n",
    "\n",
    "\"\"\"\n",
    "DON'T MODIFY ANYTHING IN THIS CELL THAT IS BELOW THIS LINE\n",
    "\"\"\"\n",
    "tests.test_flatten(flatten)"
   ]
  },
  {
   "cell_type": "markdown",
   "metadata": {},
   "source": [
    "### Fully-Connected Layer\n",
    "Implement the `fully_conn` function to apply a fully connected layer to `x_tensor` with the shape (*Batch Size*, *num_outputs*). Shortcut option: you can use classes from the [TensorFlow Layers](https://www.tensorflow.org/api_docs/python/tf/layers) or [TensorFlow Layers (contrib)](https://www.tensorflow.org/api_guides/python/contrib.layers) packages for this layer. For more of a challenge, only use other TensorFlow packages."
   ]
  },
  {
   "cell_type": "markdown",
   "metadata": {},
   "source": [
    "### 全连接层\n",
    "\n",
    "修改 `fully_conn` 函数，来对形如 `(batch Size, num_outputs)` 的输入 `x_tensor` 应用一个全连接层。快捷方法：你可以使用来自 [TensorFlow Layers](https://www.tensorflow.org/api_docs/python/tf/layers) 或 [TensorFlow Layers (contrib)](https://www.tensorflow.org/api_guides/python/contrib.layers) 包中的函数来实现该功能。不过你也可以只使用 TensorFlow 包中的函数来挑战自己。"
   ]
  },
  {
   "cell_type": "code",
   "execution_count": 11,
   "metadata": {
    "collapsed": false
   },
   "outputs": [
    {
     "name": "stdout",
     "output_type": "stream",
     "text": [
      "Tests Passed\n"
     ]
    }
   ],
   "source": [
    "def fully_conn(x_tensor, num_outputs):\n",
    "    \"\"\"\n",
    "    Apply a fully connected layer to x_tensor using weight and bias\n",
    "    : x_tensor: A 2-D tensor where the first dimension is batch size.\n",
    "    : num_outputs: The number of output that the new tensor should be.\n",
    "    : return: A 2-D tensor where the second dimension is num_outputs.\n",
    "    \"\"\"\n",
    "    # TODO: Implement Function\n",
    "    num_weights = x_tensor.shape.as_list()[-1]\n",
    "    W_fc = tf.Variable(tf.truncated_normal([num_weights, num_outputs], stddev=0.1))\n",
    "    b_fc = tf.Variable(tf.zeros(num_outputs))\n",
    "    fc_data = tf.nn.relu(tf.matmul(x_tensor, W_fc) + b_fc)\n",
    "    return fc_data\n",
    "\n",
    "\n",
    "\"\"\"\n",
    "DON'T MODIFY ANYTHING IN THIS CELL THAT IS BELOW THIS LINE\n",
    "\"\"\"\n",
    "tests.test_fully_conn(fully_conn)"
   ]
  },
  {
   "cell_type": "markdown",
   "metadata": {},
   "source": [
    "### Output Layer\n",
    "Implement the `output` function to apply a fully connected layer to `x_tensor` with the shape (*Batch Size*, *num_outputs*). Shortcut option: you can use classes from the [TensorFlow Layers](https://www.tensorflow.org/api_docs/python/tf/layers) or [TensorFlow Layers (contrib)](https://www.tensorflow.org/api_guides/python/contrib.layers) packages for this layer. For more of a challenge, only use other TensorFlow packages.\n",
    "\n",
    "**Note:** Activation, softmax, or cross entropy should **not** be applied to this."
   ]
  },
  {
   "cell_type": "markdown",
   "metadata": {},
   "source": [
    "### 输出层\n",
    "\n",
    "修改 `output` 函数，来对形如 `(batch Size, num_outputs)` 的输入 `x_tensor` 应用一个全连接层。快捷方法：你可以使用来自 [TensorFlow Layers](https://www.tensorflow.org/api_docs/python/tf/layers) 或 [TensorFlow Layers (contrib)](https://www.tensorflow.org/api_guides/python/contrib.layers) 包中的函数来实现该功能。不过你也可以只使用 TensorFlow 包中的函数来挑战自己。\n",
    "\n",
    "**注意：**\n",
    "激活函数、softmax 或者交叉熵（corss entropy）**不**应被加入到该层。"
   ]
  },
  {
   "cell_type": "code",
   "execution_count": 12,
   "metadata": {
    "collapsed": false
   },
   "outputs": [
    {
     "name": "stdout",
     "output_type": "stream",
     "text": [
      "Tests Passed\n"
     ]
    }
   ],
   "source": [
    "def output(x_tensor, num_outputs):\n",
    "    \"\"\"\n",
    "    Apply a output layer to x_tensor using weight and bias\n",
    "    : x_tensor: A 2-D tensor where the first dimension is batch size.\n",
    "    : num_outputs: The number of output that the new tensor should be.\n",
    "    : return: A 2-D tensor where the second dimension is num_outputs.\n",
    "    \"\"\"\n",
    "    # TODO: Implement Function\n",
    "    num_weights = x_tensor.shape.as_list()[-1]\n",
    "    W_output = tf.Variable(tf.truncated_normal([num_weights, num_outputs], stddev=0.1))\n",
    "    b_output = tf.Variable(tf.constant(0.1, shape=[num_outputs]))\n",
    "    #output_data = tf.nn.relu(tf.matmul(x_tensor, W_output) + b_output)\n",
    "    output_data = tf.matmul(x_tensor, W_output) + b_output\n",
    "    return output_data\n",
    "\n",
    "\n",
    "\"\"\"\n",
    "DON'T MODIFY ANYTHING IN THIS CELL THAT IS BELOW THIS LINE\n",
    "\"\"\"\n",
    "tests.test_output(output)"
   ]
  },
  {
   "cell_type": "markdown",
   "metadata": {},
   "source": [
    "### Create Convolutional Model\n",
    "Implement the function `conv_net` to create a convolutional neural network model. The function takes in a batch of images, `x`, and outputs logits.  Use the layers you created above to create this model:\n",
    "\n",
    "* Apply 1, 2, or 3 Convolution and Max Pool layers\n",
    "* Apply a Flatten Layer\n",
    "* Apply 1, 2, or 3 Fully Connected Layers\n",
    "* Apply an Output Layer\n",
    "* Return the output\n",
    "* Apply [TensorFlow's Dropout](https://www.tensorflow.org/api_docs/python/tf/nn/dropout) to one or more layers in the model using `keep_prob`. "
   ]
  },
  {
   "cell_type": "markdown",
   "metadata": {},
   "source": [
    "### 创建卷积模型\n",
    "\n",
    "修改 `conv_net` 函数，使之能够生成一个卷积神经网络模型。该函数的输入为一批图像数据 `x`，输出为 logits。在函数中，使用上方你修改的创建各种层的函数来创建该模型：\n",
    "\n",
    "* 使用 1 到 3 个卷积-最大池化层\n",
    "* 使用一个展开层\n",
    "* 使用 1 到 3 个全连接层\n",
    "* 使用一个输出层\n",
    "* 返回呼出结果\n",
    "* 在一个或多个层上使用 [TensorFlow's Dropout](https://www.tensorflow.org/api_docs/python/tf/nn/dropout)，对应的保留概率为 `keep_prob`. "
   ]
  },
  {
   "cell_type": "code",
   "execution_count": 13,
   "metadata": {
    "collapsed": false
   },
   "outputs": [
    {
     "name": "stdout",
     "output_type": "stream",
     "text": [
      "Neural Network Built!\n"
     ]
    }
   ],
   "source": [
    "def conv_net(x, keep_prob):\n",
    "    \"\"\"\n",
    "    Create a convolutional neural network model\n",
    "    : x: Placeholder tensor that holds image data.\n",
    "    : keep_prob: Placeholder tensor that hold dropout keep probability.\n",
    "    : return: Tensor that represents logits\n",
    "    \"\"\"\n",
    "    # TODO: Apply 1, 2, or 3 Convolution and Max Pool layers\n",
    "    #    Play around with different number of outputs, kernel size and stride\n",
    "    # Function Definition from Above:\n",
    "    #    conv2d_maxpool(x_tensor, conv_num_outputs, conv_ksize, conv_strides, pool_ksize, pool_strides)\n",
    "    conv_maxpool1 = conv2d_maxpool(x, 32, [5,5], [1,1], [3,3], [2,2])\n",
    "    conv_maxpool2 = conv2d_maxpool(conv_maxpool1, 64, [5,5], [1,1], [3,3], [2,2])\n",
    "    \n",
    "    # TODO: Apply a Flatten Layer\n",
    "    # Function Definition from Above:\n",
    "    #   flatten(x_tensor)\n",
    "    flatten_data = flatten(x_tensor=conv_maxpool2)\n",
    "    \n",
    "\n",
    "    # TODO: Apply 1, 2, or 3 Fully Connected Layers\n",
    "    #    Play around with different number of outputs\n",
    "    # Function Definition from Above:\n",
    "    #   fully_conn(x_tensor, num_outputs)\n",
    "    fc1 = fully_conn(x_tensor=flatten_data, num_outputs=512)\n",
    "    fc2 = fully_conn(x_tensor=fc1, num_outputs=256)\n",
    "    #fc3 = fully_conn(x_tensor=fc2, num_outputs=10)\n",
    "    \n",
    "    dropout_data = tf.nn.dropout(fc2, keep_prob)\n",
    "    \n",
    "    \n",
    "    # TODO: Apply an Output Layer\n",
    "    #    Set this to the number of classes\n",
    "    # Function Definition from Above:\n",
    "    #   output(x_tensor, num_outputs)\n",
    "    output_data = output(x_tensor=dropout_data, num_outputs=10)\n",
    "    \n",
    "    # TODO: return output\n",
    "    return output_data\n",
    "\n",
    "\n",
    "\"\"\"\n",
    "DON'T MODIFY ANYTHING IN THIS CELL THAT IS BELOW THIS LINE\n",
    "\"\"\"\n",
    "\n",
    "##############################\n",
    "## Build the Neural Network ##\n",
    "##############################\n",
    "\n",
    "# Remove previous weights, bias, inputs, etc..\n",
    "tf.reset_default_graph()\n",
    "\n",
    "# Inputs\n",
    "x = neural_net_image_input((32, 32, 3))\n",
    "y = neural_net_label_input(10)\n",
    "keep_prob = neural_net_keep_prob_input()\n",
    "\n",
    "# Model\n",
    "logits = conv_net(x, keep_prob)\n",
    "\n",
    "# Name logits Tensor, so that is can be loaded from disk after training\n",
    "logits = tf.identity(logits, name='logits')\n",
    "\n",
    "# Loss and Optimizer\n",
    "cost = tf.reduce_mean(tf.nn.softmax_cross_entropy_with_logits(logits=logits, labels=y))\n",
    "optimizer = tf.train.AdamOptimizer().minimize(cost)\n",
    "\n",
    "# Accuracy\n",
    "correct_pred = tf.equal(tf.argmax(logits, 1), tf.argmax(y, 1))\n",
    "accuracy = tf.reduce_mean(tf.cast(correct_pred, tf.float32), name='accuracy')\n",
    "\n",
    "tests.test_conv_net(conv_net)"
   ]
  },
  {
   "cell_type": "markdown",
   "metadata": {},
   "source": [
    "## Train the Neural Network\n",
    "### Single Optimization\n",
    "Implement the function `train_neural_network` to do a single optimization.  The optimization should use `optimizer` to optimize in `session` with a `feed_dict` of the following:\n",
    "* `x` for image input\n",
    "* `y` for labels\n",
    "* `keep_prob` for keep probability for dropout\n",
    "\n",
    "This function will be called for each batch, so `tf.global_variables_initializer()` has already been called.\n",
    "\n",
    "Note: Nothing needs to be returned. This function is only optimizing the neural network."
   ]
  },
  {
   "cell_type": "markdown",
   "metadata": {},
   "source": [
    "## 训练该神经网络\n",
    "\n",
    "### 最优化\n",
    "\n",
    "修改 `train_neural_network` 函数以执行单次最优化。该最优化过程应在一个 `session` 中使用 `optimizer` 来进行该过程，它的 `feed_dict` 包括：\n",
    "* `x` 代表输入图像\n",
    "* `y` 代表*标签*\n",
    "* `keep_prob` 为 Dropout 过程中的保留概率\n",
    "\n",
    "对每批数据该函数都会被调用，因而 `tf.global_variables_initializer()` 已经被调用过。\n",
    "\n",
    "注意：该函数并不要返回某个值，它只对神经网络进行最优化。"
   ]
  },
  {
   "cell_type": "code",
   "execution_count": 14,
   "metadata": {
    "collapsed": false
   },
   "outputs": [
    {
     "name": "stdout",
     "output_type": "stream",
     "text": [
      "Tests Passed\n"
     ]
    }
   ],
   "source": [
    "def train_neural_network(session, optimizer, keep_probability, feature_batch, label_batch):\n",
    "    \"\"\"\n",
    "    Optimize the session on a batch of images and labels\n",
    "    : session: Current TensorFlow session\n",
    "    : optimizer: TensorFlow optimizer function\n",
    "    : keep_probability: keep probability\n",
    "    : feature_batch: Batch of Numpy image data\n",
    "    : label_batch: Batch of Numpy label data\n",
    "    \"\"\"\n",
    "    # TODO: Implement Function\n",
    "    session.run(optimizer, feed_dict={x: feature_batch, y: label_batch, keep_prob: keep_probability})\n",
    "\n",
    "\"\"\"\n",
    "DON'T MODIFY ANYTHING IN THIS CELL THAT IS BELOW THIS LINE\n",
    "\"\"\"\n",
    "tests.test_train_nn(train_neural_network)"
   ]
  },
  {
   "cell_type": "markdown",
   "metadata": {},
   "source": [
    "### Show Stats\n",
    "Implement the function `print_stats` to print loss and validation accuracy.  Use the global variables `valid_features` and `valid_labels` to calculate validation accuracy.  Use a keep probability of `1.0` to calculate the loss and validation accuracy."
   ]
  },
  {
   "cell_type": "markdown",
   "metadata": {},
   "source": [
    "### 显示状态\n",
    "\n",
    "修改 `print_stats` 函数来打印 loss 值及验证准确率。 使用全局的变量 `valid_features` 及 `valid_labels` 来计算验证准确率。 设定保留概率为 1.0 来计算 loss 值及验证准确率。"
   ]
  },
  {
   "cell_type": "code",
   "execution_count": 15,
   "metadata": {
    "collapsed": true
   },
   "outputs": [],
   "source": [
    "def print_stats(session, feature_batch, label_batch, cost, accuracy):\n",
    "    \"\"\"\n",
    "    Print information about loss and validation accuracy\n",
    "    : session: Current TensorFlow session\n",
    "    : feature_batch: Batch of Numpy image data\n",
    "    : label_batch: Batch of Numpy label data\n",
    "    : cost: TensorFlow cost function\n",
    "    : accuracy: TensorFlow accuracy function\n",
    "    \"\"\"\n",
    "    # TODO: Implement Function\n",
    "    loss_train, acc_train = session.run([cost,accuracy], feed_dict={x: feature_batch, y: label_batch, keep_prob: 1.0})\n",
    "    loss_val, acc_val = session.run([cost,accuracy], feed_dict={x: valid_features, y: valid_labels, keep_prob: 1.0})\n",
    "    print('\\ntrain loss: %f, train accuracy: %f, valid loss: %f, valid accuracy: %f' % (loss_train,acc_train,loss_val,acc_val))"
   ]
  },
  {
   "cell_type": "markdown",
   "metadata": {},
   "source": [
    "### Hyperparameters\n",
    "Tune the following parameters:\n",
    "* Set `epochs` to the number of iterations until the network stops learning or start overfitting\n",
    "* Set `batch_size` to the highest number that your machine has memory for.  Most people set them to common sizes of memory:\n",
    " * 64\n",
    " * 128\n",
    " * 256\n",
    " * ...\n",
    "* Set `keep_probability` to the probability of keeping a node using dropout"
   ]
  },
  {
   "cell_type": "markdown",
   "metadata": {},
   "source": [
    "### 超参数调节\n",
    "\n",
    "你需要调节如下的参数：\n",
    "* 设定 `epoches` 为模型停止学习或开始过拟合时模型的迭代次数。\n",
    "* 设定 `batch_size` 为你内存能支持的最大值。一般我们设定该值为：\n",
    " * 64\n",
    " * 128\n",
    " * 256\n",
    " * ...\n",
    "* 设定 `keep_probability` 为在 dropout 过程中保留一个节点的概率。"
   ]
  },
  {
   "cell_type": "code",
   "execution_count": 16,
   "metadata": {
    "collapsed": true
   },
   "outputs": [],
   "source": [
    "# TODO: Tune Parameters\n",
    "epochs = 30\n",
    "batch_size = 128\n",
    "keep_probability = 0.75"
   ]
  },
  {
   "cell_type": "markdown",
   "metadata": {},
   "source": [
    "### Train on a Single CIFAR-10 Batch\n",
    "Instead of training the neural network on all the CIFAR-10 batches of data, let's use a single batch. This should save time while you iterate on the model to get a better accuracy.  Once the final validation accuracy is 50% or greater, run the model on all the data in the next section."
   ]
  },
  {
   "cell_type": "markdown",
   "metadata": {},
   "source": [
    "### 对单批 CIFAR-10 数据进行训练\n",
    "\n",
    "相比于在所有 CIFAR-10 数据上训练神经网络，我们首先使用一批数据进行训练。这会帮助你在调节模型提高精度的过程中节省时间。当最终的验证精度超过 50% 之后，你就可以前往下一节在所有数据上运行该模型了。"
   ]
  },
  {
   "cell_type": "code",
   "execution_count": 25,
   "metadata": {
    "collapsed": false
   },
   "outputs": [
    {
     "name": "stdout",
     "output_type": "stream",
     "text": [
      "Checking the Training on a Single Batch...\n",
      "Epoch  1, CIFAR-10 Batch 1:  \n",
      "train loss: 1.818775, train accuracy: 0.425000, valid loss: 1.692488, valid accuracy: 0.387400\n",
      "Epoch  2, CIFAR-10 Batch 1:  \n",
      "train loss: 1.467298, train accuracy: 0.600000, valid loss: 1.503237, valid accuracy: 0.458000\n",
      "Epoch  3, CIFAR-10 Batch 1:  \n",
      "train loss: 1.181337, train accuracy: 0.625000, valid loss: 1.387749, valid accuracy: 0.500600\n",
      "Epoch  4, CIFAR-10 Batch 1:  \n",
      "train loss: 0.880962, train accuracy: 0.725000, valid loss: 1.321390, valid accuracy: 0.529600\n",
      "Epoch  5, CIFAR-10 Batch 1:  \n",
      "train loss: 0.760190, train accuracy: 0.775000, valid loss: 1.304223, valid accuracy: 0.542800\n",
      "Epoch  6, CIFAR-10 Batch 1:  \n",
      "train loss: 0.620893, train accuracy: 0.775000, valid loss: 1.329008, valid accuracy: 0.554200\n",
      "Epoch  7, CIFAR-10 Batch 1:  \n",
      "train loss: 0.475416, train accuracy: 0.825000, valid loss: 1.299289, valid accuracy: 0.560800\n",
      "Epoch  8, CIFAR-10 Batch 1:  \n",
      "train loss: 0.389774, train accuracy: 0.875000, valid loss: 1.344862, valid accuracy: 0.560000\n",
      "Epoch  9, CIFAR-10 Batch 1:  \n",
      "train loss: 0.362440, train accuracy: 0.950000, valid loss: 1.462989, valid accuracy: 0.541200\n",
      "Epoch 10, CIFAR-10 Batch 1:  \n",
      "train loss: 0.284856, train accuracy: 0.925000, valid loss: 1.442123, valid accuracy: 0.557400\n",
      "Epoch 11, CIFAR-10 Batch 1:  \n",
      "train loss: 0.266203, train accuracy: 0.900000, valid loss: 1.445794, valid accuracy: 0.572000\n",
      "Epoch 12, CIFAR-10 Batch 1:  \n",
      "train loss: 0.169561, train accuracy: 0.975000, valid loss: 1.578742, valid accuracy: 0.567000\n",
      "Epoch 13, CIFAR-10 Batch 1:  \n",
      "train loss: 0.100905, train accuracy: 1.000000, valid loss: 1.614736, valid accuracy: 0.562800\n",
      "Epoch 14, CIFAR-10 Batch 1:  \n",
      "train loss: 0.075158, train accuracy: 1.000000, valid loss: 1.698112, valid accuracy: 0.558400\n",
      "Epoch 15, CIFAR-10 Batch 1:  \n",
      "train loss: 0.054115, train accuracy: 1.000000, valid loss: 1.732512, valid accuracy: 0.564200\n",
      "Epoch 16, CIFAR-10 Batch 1:  \n",
      "train loss: 0.038165, train accuracy: 1.000000, valid loss: 1.782979, valid accuracy: 0.584000\n",
      "Epoch 17, CIFAR-10 Batch 1:  \n",
      "train loss: 0.041071, train accuracy: 1.000000, valid loss: 2.043011, valid accuracy: 0.565600\n",
      "Epoch 18, CIFAR-10 Batch 1:  \n",
      "train loss: 0.026080, train accuracy: 1.000000, valid loss: 1.986182, valid accuracy: 0.578600\n",
      "Epoch 19, CIFAR-10 Batch 1:  \n",
      "train loss: 0.027310, train accuracy: 1.000000, valid loss: 2.034653, valid accuracy: 0.567200\n",
      "Epoch 20, CIFAR-10 Batch 1:  \n",
      "train loss: 0.018194, train accuracy: 1.000000, valid loss: 2.107229, valid accuracy: 0.561000\n",
      "Epoch 21, CIFAR-10 Batch 1:  \n",
      "train loss: 0.013183, train accuracy: 1.000000, valid loss: 2.245316, valid accuracy: 0.548400\n",
      "Epoch 22, CIFAR-10 Batch 1:  \n",
      "train loss: 0.017112, train accuracy: 1.000000, valid loss: 2.207226, valid accuracy: 0.560800\n",
      "Epoch 23, CIFAR-10 Batch 1:  \n",
      "train loss: 0.030002, train accuracy: 1.000000, valid loss: 2.351499, valid accuracy: 0.552800\n",
      "Epoch 24, CIFAR-10 Batch 1:  \n",
      "train loss: 0.011367, train accuracy: 1.000000, valid loss: 2.122754, valid accuracy: 0.577200\n",
      "Epoch 25, CIFAR-10 Batch 1:  \n",
      "train loss: 0.015394, train accuracy: 1.000000, valid loss: 2.474607, valid accuracy: 0.554600\n",
      "Epoch 26, CIFAR-10 Batch 1:  \n",
      "train loss: 0.007522, train accuracy: 1.000000, valid loss: 2.435388, valid accuracy: 0.578400\n",
      "Epoch 27, CIFAR-10 Batch 1:  \n",
      "train loss: 0.008034, train accuracy: 1.000000, valid loss: 2.459217, valid accuracy: 0.570800\n",
      "Epoch 28, CIFAR-10 Batch 1:  \n",
      "train loss: 0.004001, train accuracy: 1.000000, valid loss: 2.479575, valid accuracy: 0.580000\n",
      "Epoch 29, CIFAR-10 Batch 1:  \n",
      "train loss: 0.002720, train accuracy: 1.000000, valid loss: 2.460820, valid accuracy: 0.587600\n",
      "Epoch 30, CIFAR-10 Batch 1:  \n",
      "train loss: 0.004664, train accuracy: 1.000000, valid loss: 2.438908, valid accuracy: 0.569400\n",
      "Epoch 31, CIFAR-10 Batch 1:  \n",
      "train loss: 0.001442, train accuracy: 1.000000, valid loss: 2.511057, valid accuracy: 0.575800\n",
      "Epoch 32, CIFAR-10 Batch 1:  \n",
      "train loss: 0.007670, train accuracy: 1.000000, valid loss: 2.679075, valid accuracy: 0.578000\n",
      "Epoch 33, CIFAR-10 Batch 1:  \n",
      "train loss: 0.005877, train accuracy: 1.000000, valid loss: 2.825780, valid accuracy: 0.561000\n",
      "Epoch 34, CIFAR-10 Batch 1:  \n",
      "train loss: 0.001013, train accuracy: 1.000000, valid loss: 2.756717, valid accuracy: 0.583200\n",
      "Epoch 35, CIFAR-10 Batch 1:  \n",
      "train loss: 0.001971, train accuracy: 1.000000, valid loss: 2.769210, valid accuracy: 0.569000\n",
      "Epoch 36, CIFAR-10 Batch 1:  \n",
      "train loss: 0.002099, train accuracy: 1.000000, valid loss: 2.833616, valid accuracy: 0.579200\n",
      "Epoch 37, CIFAR-10 Batch 1:  \n",
      "train loss: 0.001535, train accuracy: 1.000000, valid loss: 2.871285, valid accuracy: 0.582400\n",
      "Epoch 38, CIFAR-10 Batch 1:  \n",
      "train loss: 0.001148, train accuracy: 1.000000, valid loss: 2.853033, valid accuracy: 0.584600\n",
      "Epoch 39, CIFAR-10 Batch 1:  \n",
      "train loss: 0.001546, train accuracy: 1.000000, valid loss: 2.899916, valid accuracy: 0.586200\n",
      "Epoch 40, CIFAR-10 Batch 1:  \n",
      "train loss: 0.005270, train accuracy: 1.000000, valid loss: 3.162809, valid accuracy: 0.573400\n"
     ]
    }
   ],
   "source": [
    "\"\"\"\n",
    "DON'T MODIFY ANYTHING IN THIS CELL\n",
    "\"\"\"\n",
    "print('Checking the Training on a Single Batch...')\n",
    "with tf.Session() as sess:\n",
    "    # Initializing the variables\n",
    "    sess.run(tf.global_variables_initializer())\n",
    "    \n",
    "    # Training cycle\n",
    "    for epoch in range(epochs):\n",
    "        batch_i = 1\n",
    "        for batch_features, batch_labels in helper.load_preprocess_training_batch(batch_i, batch_size):\n",
    "            train_neural_network(sess, optimizer, keep_probability, batch_features, batch_labels)\n",
    "        print('Epoch {:>2}, CIFAR-10 Batch {}:  '.format(epoch + 1, batch_i), end='')\n",
    "        print_stats(sess, batch_features, batch_labels, cost, accuracy)"
   ]
  },
  {
   "cell_type": "markdown",
   "metadata": {},
   "source": [
    "### Fully Train the Model\n",
    "Now that you got a good accuracy with a single CIFAR-10 batch, try it with all five batches."
   ]
  },
  {
   "cell_type": "markdown",
   "metadata": {},
   "source": [
    "### 完全训练该模型\n",
    "\n",
    "因为你在单批 CIFAR-10 数据上已经得到了一个不错的准确率了，那你可以尝试在所有五批数据上进行训练。"
   ]
  },
  {
   "cell_type": "code",
   "execution_count": 17,
   "metadata": {
    "collapsed": false
   },
   "outputs": [
    {
     "name": "stdout",
     "output_type": "stream",
     "text": [
      "Training...\n",
      "Epoch  1, CIFAR-10 Batch 1:  \n",
      "train loss: 1.788057, train accuracy: 0.400000, valid loss: 1.697130, valid accuracy: 0.396200\n",
      "Epoch  1, CIFAR-10 Batch 2:  \n",
      "train loss: 1.394045, train accuracy: 0.475000, valid loss: 1.441124, valid accuracy: 0.463600\n",
      "Epoch  1, CIFAR-10 Batch 3:  \n",
      "train loss: 1.156255, train accuracy: 0.650000, valid loss: 1.342668, valid accuracy: 0.510400\n",
      "Epoch  1, CIFAR-10 Batch 4:  \n",
      "train loss: 1.153103, train accuracy: 0.600000, valid loss: 1.254848, valid accuracy: 0.542600\n",
      "Epoch  1, CIFAR-10 Batch 5:  \n",
      "train loss: 1.155049, train accuracy: 0.625000, valid loss: 1.177642, valid accuracy: 0.581200\n",
      "Epoch  2, CIFAR-10 Batch 1:  \n",
      "train loss: 1.108010, train accuracy: 0.600000, valid loss: 1.179790, valid accuracy: 0.578600\n",
      "Epoch  2, CIFAR-10 Batch 2:  \n",
      "train loss: 1.031102, train accuracy: 0.675000, valid loss: 1.250423, valid accuracy: 0.548200\n",
      "Epoch  2, CIFAR-10 Batch 3:  \n",
      "train loss: 0.785019, train accuracy: 0.800000, valid loss: 1.066708, valid accuracy: 0.616400\n",
      "Epoch  2, CIFAR-10 Batch 4:  \n",
      "train loss: 0.795248, train accuracy: 0.725000, valid loss: 1.060530, valid accuracy: 0.624200\n",
      "Epoch  2, CIFAR-10 Batch 5:  \n",
      "train loss: 0.744707, train accuracy: 0.775000, valid loss: 1.039937, valid accuracy: 0.639200\n",
      "Epoch  3, CIFAR-10 Batch 1:  \n",
      "train loss: 0.908640, train accuracy: 0.700000, valid loss: 1.022350, valid accuracy: 0.637600\n",
      "Epoch  3, CIFAR-10 Batch 2:  \n",
      "train loss: 0.644873, train accuracy: 0.775000, valid loss: 1.087092, valid accuracy: 0.615600\n",
      "Epoch  3, CIFAR-10 Batch 3:  \n",
      "train loss: 0.564801, train accuracy: 0.825000, valid loss: 0.982510, valid accuracy: 0.655800\n",
      "Epoch  3, CIFAR-10 Batch 4:  \n",
      "train loss: 0.524889, train accuracy: 0.775000, valid loss: 0.961616, valid accuracy: 0.659800\n",
      "Epoch  3, CIFAR-10 Batch 5:  \n",
      "train loss: 0.528210, train accuracy: 0.875000, valid loss: 0.949917, valid accuracy: 0.671000\n",
      "Epoch  4, CIFAR-10 Batch 1:  \n",
      "train loss: 0.651572, train accuracy: 0.825000, valid loss: 0.979752, valid accuracy: 0.660400\n",
      "Epoch  4, CIFAR-10 Batch 2:  \n",
      "train loss: 0.406902, train accuracy: 0.850000, valid loss: 0.968179, valid accuracy: 0.663200\n",
      "Epoch  4, CIFAR-10 Batch 3:  \n",
      "train loss: 0.405798, train accuracy: 0.900000, valid loss: 0.993885, valid accuracy: 0.648400\n",
      "Epoch  4, CIFAR-10 Batch 4:  \n",
      "train loss: 0.332992, train accuracy: 0.900000, valid loss: 0.954171, valid accuracy: 0.670600\n",
      "Epoch  4, CIFAR-10 Batch 5:  \n",
      "train loss: 0.333614, train accuracy: 0.950000, valid loss: 0.935033, valid accuracy: 0.684000\n",
      "Epoch  5, CIFAR-10 Batch 1:  \n",
      "train loss: 0.425616, train accuracy: 0.825000, valid loss: 1.001188, valid accuracy: 0.664000\n",
      "Epoch  5, CIFAR-10 Batch 2:  \n",
      "train loss: 0.293847, train accuracy: 0.925000, valid loss: 0.949499, valid accuracy: 0.682000\n",
      "Epoch  5, CIFAR-10 Batch 3:  \n",
      "train loss: 0.256781, train accuracy: 0.950000, valid loss: 0.982594, valid accuracy: 0.659600\n",
      "Epoch  5, CIFAR-10 Batch 4:  \n",
      "train loss: 0.230454, train accuracy: 0.950000, valid loss: 0.946366, valid accuracy: 0.681800\n",
      "Epoch  5, CIFAR-10 Batch 5:  \n",
      "train loss: 0.250116, train accuracy: 0.950000, valid loss: 0.933674, valid accuracy: 0.688800\n",
      "Epoch  6, CIFAR-10 Batch 1:  \n",
      "train loss: 0.256451, train accuracy: 0.900000, valid loss: 0.993710, valid accuracy: 0.693200\n",
      "Epoch  6, CIFAR-10 Batch 2:  \n",
      "train loss: 0.218895, train accuracy: 0.950000, valid loss: 0.967527, valid accuracy: 0.679400\n",
      "Epoch  6, CIFAR-10 Batch 3:  \n",
      "train loss: 0.141753, train accuracy: 0.975000, valid loss: 0.945768, valid accuracy: 0.687600\n",
      "Epoch  6, CIFAR-10 Batch 4:  \n",
      "train loss: 0.224206, train accuracy: 0.950000, valid loss: 0.958296, valid accuracy: 0.693000\n",
      "Epoch  6, CIFAR-10 Batch 5:  \n",
      "train loss: 0.128399, train accuracy: 1.000000, valid loss: 1.056989, valid accuracy: 0.679000\n",
      "Epoch  7, CIFAR-10 Batch 1:  \n",
      "train loss: 0.184895, train accuracy: 1.000000, valid loss: 0.952435, valid accuracy: 0.696000\n",
      "Epoch  7, CIFAR-10 Batch 2:  \n",
      "train loss: 0.132204, train accuracy: 0.975000, valid loss: 1.039065, valid accuracy: 0.683000\n",
      "Epoch  7, CIFAR-10 Batch 3:  \n",
      "train loss: 0.095801, train accuracy: 1.000000, valid loss: 1.013231, valid accuracy: 0.680200\n",
      "Epoch  7, CIFAR-10 Batch 4:  \n",
      "train loss: 0.246537, train accuracy: 0.925000, valid loss: 1.003875, valid accuracy: 0.680600\n",
      "Epoch  7, CIFAR-10 Batch 5:  \n",
      "train loss: 0.096720, train accuracy: 0.975000, valid loss: 1.141849, valid accuracy: 0.666600\n",
      "Epoch  8, CIFAR-10 Batch 1:  \n",
      "train loss: 0.119543, train accuracy: 1.000000, valid loss: 0.982427, valid accuracy: 0.708000\n",
      "Epoch  8, CIFAR-10 Batch 2:  \n",
      "train loss: 0.114904, train accuracy: 0.975000, valid loss: 1.080070, valid accuracy: 0.678800\n",
      "Epoch  8, CIFAR-10 Batch 3:  \n",
      "train loss: 0.073134, train accuracy: 1.000000, valid loss: 1.148050, valid accuracy: 0.664200\n",
      "Epoch  8, CIFAR-10 Batch 4:  \n",
      "train loss: 0.136377, train accuracy: 1.000000, valid loss: 1.120718, valid accuracy: 0.656400\n",
      "Epoch  8, CIFAR-10 Batch 5:  \n",
      "train loss: 0.091917, train accuracy: 1.000000, valid loss: 1.139813, valid accuracy: 0.668200\n",
      "Epoch  9, CIFAR-10 Batch 1:  \n",
      "train loss: 0.052163, train accuracy: 1.000000, valid loss: 1.086110, valid accuracy: 0.696000\n",
      "Epoch  9, CIFAR-10 Batch 2:  \n",
      "train loss: 0.068814, train accuracy: 1.000000, valid loss: 1.081987, valid accuracy: 0.683800\n",
      "Epoch  9, CIFAR-10 Batch 3:  \n",
      "train loss: 0.033770, train accuracy: 1.000000, valid loss: 1.209027, valid accuracy: 0.673000\n",
      "Epoch  9, CIFAR-10 Batch 4:  \n",
      "train loss: 0.077588, train accuracy: 1.000000, valid loss: 1.218035, valid accuracy: 0.665000\n",
      "Epoch  9, CIFAR-10 Batch 5:  \n",
      "train loss: 0.065419, train accuracy: 1.000000, valid loss: 1.196601, valid accuracy: 0.687400\n",
      "Epoch 10, CIFAR-10 Batch 1:  \n",
      "train loss: 0.025811, train accuracy: 1.000000, valid loss: 1.141006, valid accuracy: 0.702600\n",
      "Epoch 10, CIFAR-10 Batch 2:  \n",
      "train loss: 0.022528, train accuracy: 1.000000, valid loss: 1.138675, valid accuracy: 0.687200\n",
      "Epoch 10, CIFAR-10 Batch 3:  \n",
      "train loss: 0.030730, train accuracy: 1.000000, valid loss: 1.174998, valid accuracy: 0.692200\n",
      "Epoch 10, CIFAR-10 Batch 4:  \n",
      "train loss: 0.070949, train accuracy: 1.000000, valid loss: 1.222810, valid accuracy: 0.682200\n",
      "Epoch 10, CIFAR-10 Batch 5:  \n",
      "train loss: 0.052628, train accuracy: 1.000000, valid loss: 1.333795, valid accuracy: 0.677800\n",
      "Epoch 11, CIFAR-10 Batch 1:  \n",
      "train loss: 0.029883, train accuracy: 1.000000, valid loss: 1.302087, valid accuracy: 0.692800\n",
      "Epoch 11, CIFAR-10 Batch 2:  \n",
      "train loss: 0.039066, train accuracy: 1.000000, valid loss: 1.221779, valid accuracy: 0.690000\n",
      "Epoch 11, CIFAR-10 Batch 3:  \n",
      "train loss: 0.035199, train accuracy: 1.000000, valid loss: 1.326479, valid accuracy: 0.680600\n",
      "Epoch 11, CIFAR-10 Batch 4:  \n",
      "train loss: 0.048983, train accuracy: 1.000000, valid loss: 1.282802, valid accuracy: 0.665400\n",
      "Epoch 11, CIFAR-10 Batch 5:  \n",
      "train loss: 0.021476, train accuracy: 1.000000, valid loss: 1.455611, valid accuracy: 0.663400\n",
      "Epoch 12, CIFAR-10 Batch 1:  \n",
      "train loss: 0.007870, train accuracy: 1.000000, valid loss: 1.318131, valid accuracy: 0.688000\n",
      "Epoch 12, CIFAR-10 Batch 2:  \n",
      "train loss: 0.039779, train accuracy: 1.000000, valid loss: 1.299528, valid accuracy: 0.690800\n",
      "Epoch 12, CIFAR-10 Batch 3:  \n",
      "train loss: 0.016505, train accuracy: 1.000000, valid loss: 1.382583, valid accuracy: 0.690000\n",
      "Epoch 12, CIFAR-10 Batch 4:  \n",
      "train loss: 0.020291, train accuracy: 1.000000, valid loss: 1.438381, valid accuracy: 0.662800\n",
      "Epoch 12, CIFAR-10 Batch 5:  \n",
      "train loss: 0.019495, train accuracy: 1.000000, valid loss: 1.349728, valid accuracy: 0.695200\n",
      "Epoch 13, CIFAR-10 Batch 1:  \n",
      "train loss: 0.082464, train accuracy: 0.975000, valid loss: 1.444787, valid accuracy: 0.680600\n",
      "Epoch 13, CIFAR-10 Batch 2:  \n",
      "train loss: 0.006395, train accuracy: 1.000000, valid loss: 1.337597, valid accuracy: 0.694400\n",
      "Epoch 13, CIFAR-10 Batch 3:  \n",
      "train loss: 0.009511, train accuracy: 1.000000, valid loss: 1.504578, valid accuracy: 0.694400\n",
      "Epoch 13, CIFAR-10 Batch 4:  \n",
      "train loss: 0.018172, train accuracy: 1.000000, valid loss: 1.495472, valid accuracy: 0.661600\n",
      "Epoch 13, CIFAR-10 Batch 5:  \n",
      "train loss: 0.005992, train accuracy: 1.000000, valid loss: 1.554932, valid accuracy: 0.693800\n",
      "Epoch 14, CIFAR-10 Batch 1:  \n",
      "train loss: 0.009422, train accuracy: 1.000000, valid loss: 1.471904, valid accuracy: 0.699200\n",
      "Epoch 14, CIFAR-10 Batch 2:  \n",
      "train loss: 0.005434, train accuracy: 1.000000, valid loss: 1.404573, valid accuracy: 0.688400\n",
      "Epoch 14, CIFAR-10 Batch 3:  \n",
      "train loss: 0.007031, train accuracy: 1.000000, valid loss: 1.603622, valid accuracy: 0.696800\n",
      "Epoch 14, CIFAR-10 Batch 4:  \n",
      "train loss: 0.012861, train accuracy: 1.000000, valid loss: 1.455075, valid accuracy: 0.678800\n",
      "Epoch 14, CIFAR-10 Batch 5:  \n",
      "train loss: 0.005662, train accuracy: 1.000000, valid loss: 1.561250, valid accuracy: 0.700400\n",
      "Epoch 15, CIFAR-10 Batch 1:  \n",
      "train loss: 0.007814, train accuracy: 1.000000, valid loss: 1.755360, valid accuracy: 0.682000\n",
      "Epoch 15, CIFAR-10 Batch 2:  \n",
      "train loss: 0.005123, train accuracy: 1.000000, valid loss: 1.565621, valid accuracy: 0.685600\n",
      "Epoch 15, CIFAR-10 Batch 3:  \n",
      "train loss: 0.007412, train accuracy: 1.000000, valid loss: 1.765869, valid accuracy: 0.679200\n",
      "Epoch 15, CIFAR-10 Batch 4:  \n",
      "train loss: 0.005481, train accuracy: 1.000000, valid loss: 1.545655, valid accuracy: 0.682800\n",
      "Epoch 15, CIFAR-10 Batch 5:  \n",
      "train loss: 0.003872, train accuracy: 1.000000, valid loss: 1.698768, valid accuracy: 0.696200\n",
      "Epoch 16, CIFAR-10 Batch 1:  \n",
      "train loss: 0.003067, train accuracy: 1.000000, valid loss: 1.821532, valid accuracy: 0.678400\n",
      "Epoch 16, CIFAR-10 Batch 2:  \n",
      "train loss: 0.005122, train accuracy: 1.000000, valid loss: 1.586663, valid accuracy: 0.679800\n",
      "Epoch 16, CIFAR-10 Batch 3:  \n",
      "train loss: 0.005180, train accuracy: 1.000000, valid loss: 1.733287, valid accuracy: 0.688400\n",
      "Epoch 16, CIFAR-10 Batch 4:  \n",
      "train loss: 0.004089, train accuracy: 1.000000, valid loss: 1.646435, valid accuracy: 0.674000\n",
      "Epoch 16, CIFAR-10 Batch 5:  \n",
      "train loss: 0.001493, train accuracy: 1.000000, valid loss: 1.654906, valid accuracy: 0.695600\n",
      "Epoch 17, CIFAR-10 Batch 1:  \n",
      "train loss: 0.007874, train accuracy: 1.000000, valid loss: 1.862870, valid accuracy: 0.687000\n",
      "Epoch 17, CIFAR-10 Batch 2:  \n",
      "train loss: 0.011285, train accuracy: 1.000000, valid loss: 1.594303, valid accuracy: 0.689800\n",
      "Epoch 17, CIFAR-10 Batch 3:  \n",
      "train loss: 0.007916, train accuracy: 1.000000, valid loss: 1.835571, valid accuracy: 0.687000\n",
      "Epoch 17, CIFAR-10 Batch 4:  \n",
      "train loss: 0.004199, train accuracy: 1.000000, valid loss: 1.635930, valid accuracy: 0.692800\n",
      "Epoch 17, CIFAR-10 Batch 5:  \n",
      "train loss: 0.057803, train accuracy: 0.975000, valid loss: 1.784196, valid accuracy: 0.707400\n",
      "Epoch 18, CIFAR-10 Batch 1:  \n",
      "train loss: 0.006433, train accuracy: 1.000000, valid loss: 1.958225, valid accuracy: 0.688600\n",
      "Epoch 18, CIFAR-10 Batch 2:  \n",
      "train loss: 0.003176, train accuracy: 1.000000, valid loss: 1.674456, valid accuracy: 0.680600\n",
      "Epoch 18, CIFAR-10 Batch 3:  \n",
      "train loss: 0.004727, train accuracy: 1.000000, valid loss: 1.828495, valid accuracy: 0.681600\n",
      "Epoch 18, CIFAR-10 Batch 4:  \n",
      "train loss: 0.002715, train accuracy: 1.000000, valid loss: 1.768066, valid accuracy: 0.684600\n",
      "Epoch 18, CIFAR-10 Batch 5:  \n",
      "train loss: 0.001169, train accuracy: 1.000000, valid loss: 1.824834, valid accuracy: 0.706800\n",
      "Epoch 19, CIFAR-10 Batch 1:  \n",
      "train loss: 0.002209, train accuracy: 1.000000, valid loss: 1.858919, valid accuracy: 0.698000\n",
      "Epoch 19, CIFAR-10 Batch 2:  \n",
      "train loss: 0.001165, train accuracy: 1.000000, valid loss: 1.950763, valid accuracy: 0.668400\n",
      "Epoch 19, CIFAR-10 Batch 3:  \n",
      "train loss: 0.000604, train accuracy: 1.000000, valid loss: 1.985737, valid accuracy: 0.690200\n",
      "Epoch 19, CIFAR-10 Batch 4:  \n",
      "train loss: 0.011088, train accuracy: 1.000000, valid loss: 1.863931, valid accuracy: 0.676800\n",
      "Epoch 19, CIFAR-10 Batch 5:  \n",
      "train loss: 0.000552, train accuracy: 1.000000, valid loss: 2.025949, valid accuracy: 0.698800\n",
      "Epoch 20, CIFAR-10 Batch 1:  \n",
      "train loss: 0.002958, train accuracy: 1.000000, valid loss: 1.874293, valid accuracy: 0.688000\n",
      "Epoch 20, CIFAR-10 Batch 2:  \n",
      "train loss: 0.000367, train accuracy: 1.000000, valid loss: 1.967553, valid accuracy: 0.681200\n",
      "Epoch 20, CIFAR-10 Batch 3:  \n",
      "train loss: 0.001574, train accuracy: 1.000000, valid loss: 2.011468, valid accuracy: 0.692800\n",
      "Epoch 20, CIFAR-10 Batch 4:  \n",
      "train loss: 0.012784, train accuracy: 1.000000, valid loss: 1.883382, valid accuracy: 0.687600\n",
      "Epoch 20, CIFAR-10 Batch 5:  \n",
      "train loss: 0.001946, train accuracy: 1.000000, valid loss: 1.989462, valid accuracy: 0.692000\n",
      "Epoch 21, CIFAR-10 Batch 1:  \n",
      "train loss: 0.006268, train accuracy: 1.000000, valid loss: 2.288853, valid accuracy: 0.671400\n",
      "Epoch 21, CIFAR-10 Batch 2:  \n",
      "train loss: 0.008124, train accuracy: 1.000000, valid loss: 1.859417, valid accuracy: 0.694600\n",
      "Epoch 21, CIFAR-10 Batch 3:  \n",
      "train loss: 0.010430, train accuracy: 1.000000, valid loss: 1.960176, valid accuracy: 0.699000\n",
      "Epoch 21, CIFAR-10 Batch 4:  \n",
      "train loss: 0.002840, train accuracy: 1.000000, valid loss: 1.853056, valid accuracy: 0.684800\n",
      "Epoch 21, CIFAR-10 Batch 5:  \n",
      "train loss: 0.004603, train accuracy: 1.000000, valid loss: 2.079652, valid accuracy: 0.689200\n",
      "Epoch 22, CIFAR-10 Batch 1:  \n",
      "train loss: 0.001077, train accuracy: 1.000000, valid loss: 2.023393, valid accuracy: 0.691400\n",
      "Epoch 22, CIFAR-10 Batch 2:  \n",
      "train loss: 0.006587, train accuracy: 1.000000, valid loss: 2.104765, valid accuracy: 0.670800\n",
      "Epoch 22, CIFAR-10 Batch 3:  \n",
      "train loss: 0.001791, train accuracy: 1.000000, valid loss: 2.025131, valid accuracy: 0.698400\n",
      "Epoch 22, CIFAR-10 Batch 4:  \n",
      "train loss: 0.001207, train accuracy: 1.000000, valid loss: 1.972937, valid accuracy: 0.692600\n",
      "Epoch 22, CIFAR-10 Batch 5:  \n",
      "train loss: 0.000227, train accuracy: 1.000000, valid loss: 2.112234, valid accuracy: 0.693800\n",
      "Epoch 23, CIFAR-10 Batch 1:  \n",
      "train loss: 0.000386, train accuracy: 1.000000, valid loss: 2.091957, valid accuracy: 0.689800\n",
      "Epoch 23, CIFAR-10 Batch 2:  \n",
      "train loss: 0.002245, train accuracy: 1.000000, valid loss: 2.246667, valid accuracy: 0.679400\n",
      "Epoch 23, CIFAR-10 Batch 3:  \n",
      "train loss: 0.000689, train accuracy: 1.000000, valid loss: 2.145987, valid accuracy: 0.693800\n",
      "Epoch 23, CIFAR-10 Batch 4:  \n",
      "train loss: 0.001883, train accuracy: 1.000000, valid loss: 2.024338, valid accuracy: 0.693000\n",
      "Epoch 23, CIFAR-10 Batch 5:  \n",
      "train loss: 0.001847, train accuracy: 1.000000, valid loss: 2.021737, valid accuracy: 0.698800\n",
      "Epoch 24, CIFAR-10 Batch 1:  \n",
      "train loss: 0.000422, train accuracy: 1.000000, valid loss: 2.161119, valid accuracy: 0.697800\n",
      "Epoch 24, CIFAR-10 Batch 2:  \n",
      "train loss: 0.001119, train accuracy: 1.000000, valid loss: 2.131385, valid accuracy: 0.684800\n",
      "Epoch 24, CIFAR-10 Batch 3:  \n",
      "train loss: 0.000992, train accuracy: 1.000000, valid loss: 2.101694, valid accuracy: 0.696000\n",
      "Epoch 24, CIFAR-10 Batch 4:  \n",
      "train loss: 0.015127, train accuracy: 1.000000, valid loss: 2.050714, valid accuracy: 0.672800\n",
      "Epoch 24, CIFAR-10 Batch 5:  \n",
      "train loss: 0.000883, train accuracy: 1.000000, valid loss: 2.183774, valid accuracy: 0.689800\n",
      "Epoch 25, CIFAR-10 Batch 1:  \n",
      "train loss: 0.000398, train accuracy: 1.000000, valid loss: 2.042103, valid accuracy: 0.699600\n",
      "Epoch 25, CIFAR-10 Batch 2:  \n",
      "train loss: 0.002480, train accuracy: 1.000000, valid loss: 2.180644, valid accuracy: 0.684600\n",
      "Epoch 25, CIFAR-10 Batch 3:  \n",
      "train loss: 0.004869, train accuracy: 1.000000, valid loss: 2.132006, valid accuracy: 0.700200\n",
      "Epoch 25, CIFAR-10 Batch 4:  \n",
      "train loss: 0.001150, train accuracy: 1.000000, valid loss: 2.244577, valid accuracy: 0.683200\n",
      "Epoch 25, CIFAR-10 Batch 5:  \n",
      "train loss: 0.000382, train accuracy: 1.000000, valid loss: 2.187411, valid accuracy: 0.708800\n",
      "Epoch 26, CIFAR-10 Batch 1:  \n",
      "train loss: 0.001367, train accuracy: 1.000000, valid loss: 2.232100, valid accuracy: 0.685400\n",
      "Epoch 26, CIFAR-10 Batch 2:  \n",
      "train loss: 0.001342, train accuracy: 1.000000, valid loss: 2.169773, valid accuracy: 0.690000\n",
      "Epoch 26, CIFAR-10 Batch 3:  \n",
      "train loss: 0.002299, train accuracy: 1.000000, valid loss: 2.107115, valid accuracy: 0.698800\n",
      "Epoch 26, CIFAR-10 Batch 4:  \n",
      "train loss: 0.004466, train accuracy: 1.000000, valid loss: 2.280865, valid accuracy: 0.677800\n",
      "Epoch 26, CIFAR-10 Batch 5:  \n",
      "train loss: 0.004323, train accuracy: 1.000000, valid loss: 2.579367, valid accuracy: 0.673600\n",
      "Epoch 27, CIFAR-10 Batch 1:  \n",
      "train loss: 0.000374, train accuracy: 1.000000, valid loss: 2.268148, valid accuracy: 0.678000\n",
      "Epoch 27, CIFAR-10 Batch 2:  \n",
      "train loss: 0.002578, train accuracy: 1.000000, valid loss: 2.303689, valid accuracy: 0.678600\n",
      "Epoch 27, CIFAR-10 Batch 3:  \n",
      "train loss: 0.001358, train accuracy: 1.000000, valid loss: 2.197833, valid accuracy: 0.688400\n",
      "Epoch 27, CIFAR-10 Batch 4:  \n",
      "train loss: 0.007016, train accuracy: 1.000000, valid loss: 2.292558, valid accuracy: 0.687800\n",
      "Epoch 27, CIFAR-10 Batch 5:  \n",
      "train loss: 0.002337, train accuracy: 1.000000, valid loss: 2.222511, valid accuracy: 0.693800\n",
      "Epoch 28, CIFAR-10 Batch 1:  \n",
      "train loss: 0.000327, train accuracy: 1.000000, valid loss: 2.329158, valid accuracy: 0.689600\n",
      "Epoch 28, CIFAR-10 Batch 2:  \n",
      "train loss: 0.003285, train accuracy: 1.000000, valid loss: 2.317309, valid accuracy: 0.690000\n",
      "Epoch 28, CIFAR-10 Batch 3:  \n",
      "train loss: 0.000942, train accuracy: 1.000000, valid loss: 2.298196, valid accuracy: 0.688800\n",
      "Epoch 28, CIFAR-10 Batch 4:  \n",
      "train loss: 0.000661, train accuracy: 1.000000, valid loss: 2.397506, valid accuracy: 0.683800\n",
      "Epoch 28, CIFAR-10 Batch 5:  \n",
      "train loss: 0.003357, train accuracy: 1.000000, valid loss: 2.231385, valid accuracy: 0.695600\n",
      "Epoch 29, CIFAR-10 Batch 1:  \n",
      "train loss: 0.000341, train accuracy: 1.000000, valid loss: 2.201160, valid accuracy: 0.692800\n",
      "Epoch 29, CIFAR-10 Batch 2:  \n",
      "train loss: 0.001978, train accuracy: 1.000000, valid loss: 2.369877, valid accuracy: 0.688400\n",
      "Epoch 29, CIFAR-10 Batch 3:  \n",
      "train loss: 0.001849, train accuracy: 1.000000, valid loss: 2.245659, valid accuracy: 0.692400\n",
      "Epoch 29, CIFAR-10 Batch 4:  \n",
      "train loss: 0.003502, train accuracy: 1.000000, valid loss: 2.258464, valid accuracy: 0.669000\n",
      "Epoch 29, CIFAR-10 Batch 5:  \n",
      "train loss: 0.007150, train accuracy: 1.000000, valid loss: 2.272268, valid accuracy: 0.696800\n",
      "Epoch 30, CIFAR-10 Batch 1:  \n",
      "train loss: 0.001769, train accuracy: 1.000000, valid loss: 2.240902, valid accuracy: 0.697800\n",
      "Epoch 30, CIFAR-10 Batch 2:  \n",
      "train loss: 0.000296, train accuracy: 1.000000, valid loss: 2.302266, valid accuracy: 0.697600\n",
      "Epoch 30, CIFAR-10 Batch 3:  \n",
      "train loss: 0.000693, train accuracy: 1.000000, valid loss: 2.259946, valid accuracy: 0.692600\n",
      "Epoch 30, CIFAR-10 Batch 4:  \n",
      "train loss: 0.001912, train accuracy: 1.000000, valid loss: 2.383445, valid accuracy: 0.682200\n",
      "Epoch 30, CIFAR-10 Batch 5:  \n",
      "train loss: 0.000368, train accuracy: 1.000000, valid loss: 2.260823, valid accuracy: 0.697800\n"
     ]
    }
   ],
   "source": [
    "\"\"\"\n",
    "DON'T MODIFY ANYTHING IN THIS CELL\n",
    "\"\"\"\n",
    "save_model_path = './image_classification'\n",
    "\n",
    "print('Training...')\n",
    "with tf.Session() as sess:\n",
    "    # Initializing the variables\n",
    "    sess.run(tf.global_variables_initializer())\n",
    "    \n",
    "    # Training cycle\n",
    "    for epoch in range(epochs):\n",
    "        # Loop over all batches\n",
    "        n_batches = 5\n",
    "        for batch_i in range(1, n_batches + 1):\n",
    "            for batch_features, batch_labels in helper.load_preprocess_training_batch(batch_i, batch_size):\n",
    "                train_neural_network(sess, optimizer, keep_probability, batch_features, batch_labels)\n",
    "            print('Epoch {:>2}, CIFAR-10 Batch {}:  '.format(epoch + 1, batch_i), end='')\n",
    "            print_stats(sess, batch_features, batch_labels, cost, accuracy)\n",
    "            \n",
    "    # Save Model\n",
    "    saver = tf.train.Saver()\n",
    "    save_path = saver.save(sess, save_model_path)"
   ]
  },
  {
   "cell_type": "markdown",
   "metadata": {},
   "source": [
    "# Checkpoint\n",
    "The model has been saved to disk.\n",
    "## Test Model\n",
    "Test your model against the test dataset.  This will be your final accuracy. You should have an accuracy greater than 50%. If you don't, keep tweaking the model architecture and parameters."
   ]
  },
  {
   "cell_type": "markdown",
   "metadata": {},
   "source": [
    "# 检查点\n",
    "\n",
    "该模型已经被存储到你的硬盘中。\n",
    "\n",
    "## 测试模型\n",
    "\n",
    "这部分将在测试数据集上测试你的模型。这边得到的准确率将作为你的最终准确率。你应该得到一个高于 50% 准确率。如果它没有超过 50%，那么你需要继续调整模型架构及参数。"
   ]
  },
  {
   "cell_type": "code",
   "execution_count": 18,
   "metadata": {
    "collapsed": false
   },
   "outputs": [
    {
     "name": "stdout",
     "output_type": "stream",
     "text": [
      "INFO:tensorflow:Restoring parameters from ./image_classification\n",
      "Testing Accuracy: 0.6914556962025317\n",
      "\n"
     ]
    },
    {
     "data": {
      "image/png": "[encoded data removed]",
      "text/plain": [
       "<matplotlib.figure.Figure at 0x117630d30>"
      ]
     },
     "metadata": {
      "image/png": {
       "height": 319,
       "width": 355
      }
     },
     "output_type": "display_data"
    }
   ],
   "source": [
    "\"\"\"\n",
    "DON'T MODIFY ANYTHING IN THIS CELL\n",
    "\"\"\"\n",
    "%matplotlib inline\n",
    "%config InlineBackend.figure_format = 'retina'\n",
    "\n",
    "import tensorflow as tf\n",
    "import pickle\n",
    "import helper\n",
    "import random\n",
    "\n",
    "# Set batch size if not already set\n",
    "try:\n",
    "    if batch_size:\n",
    "        pass\n",
    "except NameError:\n",
    "    batch_size = 64\n",
    "\n",
    "save_model_path = './image_classification'\n",
    "n_samples = 4\n",
    "top_n_predictions = 3\n",
    "\n",
    "def test_model():\n",
    "    \"\"\"\n",
    "    Test the saved model against the test dataset\n",
    "    \"\"\"\n",
    "\n",
    "    test_features, test_labels = pickle.load(open('preprocess_training.p', mode='rb'))\n",
    "    loaded_graph = tf.Graph()\n",
    "\n",
    "    with tf.Session(graph=loaded_graph) as sess:\n",
    "        # Load model\n",
    "        loader = tf.train.import_meta_graph(save_model_path + '.meta')\n",
    "        loader.restore(sess, save_model_path)\n",
    "\n",
    "        # Get Tensors from loaded model\n",
    "        loaded_x = loaded_graph.get_tensor_by_name('x:0')\n",
    "        loaded_y = loaded_graph.get_tensor_by_name('y:0')\n",
    "        loaded_keep_prob = loaded_graph.get_tensor_by_name('keep_prob:0')\n",
    "        loaded_logits = loaded_graph.get_tensor_by_name('logits:0')\n",
    "        loaded_acc = loaded_graph.get_tensor_by_name('accuracy:0')\n",
    "        \n",
    "        # Get accuracy in batches for memory limitations\n",
    "        test_batch_acc_total = 0\n",
    "        test_batch_count = 0\n",
    "        \n",
    "        for train_feature_batch, train_label_batch in helper.batch_features_labels(test_features, test_labels, batch_size):\n",
    "            test_batch_acc_total += sess.run(\n",
    "                loaded_acc,\n",
    "                feed_dict={loaded_x: train_feature_batch, loaded_y: train_label_batch, loaded_keep_prob: 1.0})\n",
    "            test_batch_count += 1\n",
    "\n",
    "        print('Testing Accuracy: {}\\n'.format(test_batch_acc_total/test_batch_count))\n",
    "\n",
    "        # Print Random Samples\n",
    "        random_test_features, random_test_labels = tuple(zip(*random.sample(list(zip(test_features, test_labels)), n_samples)))\n",
    "        random_test_predictions = sess.run(\n",
    "            tf.nn.top_k(tf.nn.softmax(loaded_logits), top_n_predictions),\n",
    "            feed_dict={loaded_x: random_test_features, loaded_y: random_test_labels, loaded_keep_prob: 1.0})\n",
    "        helper.display_image_predictions(random_test_features, random_test_labels, random_test_predictions)\n",
    "\n",
    "\n",
    "test_model()"
   ]
  },
  {
   "cell_type": "markdown",
   "metadata": {},
   "source": [
    "## Why 50-80% Accuracy?\n",
    "You might be wondering why you can't get an accuracy any higher. First things first, 50% isn't bad for a simple CNN.  Pure guessing would get you 10% accuracy. That's because there are many more techniques that can be applied to your model and we recemmond that once you are done with this project, you explore!\n",
    "\n",
    "## Submitting This Project\n",
    "When submitting this project, make sure to run all the cells before saving the notebook.  Save the notebook file as \"image_classification.ipynb\" and save it as a HTML file under \"File\" -> \"Download as\".  Include the \"helper.py\" and \"problem_unittests.py\" files in your submission."
   ]
  },
  {
   "cell_type": "markdown",
   "metadata": {},
   "source": [
    "## 为什么仅有 50%~ 80% 的准确率？\n",
    "\n",
    "你也许会觉得奇怪，为什么你的准确率总是提高不上去。对于简单的 CNN 网络而言，50% 并非是很差的表现。纯粹的猜测只会得到 10% 的准确率（因为一共有 10 类）。这是因为还有许多许多能够应用到你模型的技巧。在你做完了该项目之后，你可以探索探索我们给你推荐的一些方法。\n",
    "\n",
    "\n",
    "## 提交该项目\n",
    "\n",
    "在提交项目前，请确保你在运行了所有的 cell 之后保存了项目。将项目储存为 \"image_classification.ipynb\" 并导出为一个 HTML 文件。你可以再菜单栏中选择 File -> Download as 进行导出。请将 \"helper.py\" 及  \"problem_unittests.py\" 文件也放在你的提交文件中。"
   ]
  },
  {
   "cell_type": "code",
   "execution_count": null,
   "metadata": {
    "collapsed": true
   },
   "outputs": [],
   "source": []
  }
 ],
 "metadata": {
  "anaconda-cloud": {},
  "kernelspec": {
   "display_name": "Python 3",
   "language": "python",
   "name": "python3"
  },
  "language_info": {
   "codemirror_mode": {
    "name": "ipython",
    "version": 3
   },
   "file_extension": ".py",
   "mimetype": "text/x-python",
   "name": "python",
   "nbconvert_exporter": "python",
   "pygments_lexer": "ipython3",
   "version": "3.6.0"
  }
 },
 "nbformat": 4,
 "nbformat_minor": 1
}
